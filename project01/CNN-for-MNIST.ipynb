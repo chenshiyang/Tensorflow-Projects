{
 "cells": [
  {
   "cell_type": "code",
   "execution_count": 4,
   "metadata": {
    "collapsed": true
   },
   "outputs": [],
   "source": [
    "import tensorflow as tf\n",
    "import numpy as np\n",
    "import warnings\n",
    "warnings.filterwarnings('ignore')"
   ]
  },
  {
   "cell_type": "heading",
   "metadata": {},
   "level": 3,
   "source": [
    "1 数据加载"
   ]
  },
  {
   "cell_type": "code",
   "execution_count": 5,
   "metadata": {},
   "outputs": [
    {
     "name": "stdout",
     "output_type": "stream",
     "text": [
      "Successfully downloaded train-images-idx3-ubyte.gz 9912422 bytes.\nExtracting data\\train-images-idx3-ubyte.gz\n"
     ]
    },
    {
     "name": "stdout",
     "output_type": "stream",
     "text": [
      "Successfully downloaded train-labels-idx1-ubyte.gz 28881 bytes.\nExtracting data\\train-labels-idx1-ubyte.gz\n"
     ]
    },
    {
     "name": "stdout",
     "output_type": "stream",
     "text": [
      "Successfully downloaded t10k-images-idx3-ubyte.gz 1648877 bytes.\nExtracting data\\t10k-images-idx3-ubyte.gz\n"
     ]
    },
    {
     "name": "stdout",
     "output_type": "stream",
     "text": [
      "Successfully downloaded t10k-labels-idx1-ubyte.gz 4542 bytes.\nExtracting data\\t10k-labels-idx1-ubyte.gz\n"
     ]
    },
    {
     "name": "stdout",
     "output_type": "stream",
     "text": [
      "train size-- (55000, 784)\ntest size-- (10000, 784)\n"
     ]
    }
   ],
   "source": [
    "from tensorflow.examples.tutorials.mnist import input_data\n",
    "mnist = input_data.read_data_sets('data', one_hot=True)\n",
    "print(\"train size--\", mnist.train.images.shape)\n",
    "print(\"test size--\", mnist.test.images.shape)"
   ]
  },
  {
   "cell_type": "heading",
   "metadata": {},
   "level": 3,
   "source": [
    "2 网络定义"
   ]
  },
  {
   "cell_type": "code",
   "execution_count": 6,
   "metadata": {},
   "outputs": [],
   "source": [
    "def weight_variable(shape):\n",
    "    initial = tf.truncated_normal(shape, stddev=0.1)\n",
    "    return tf.Variable(initial)\n",
    "\n",
    "def bias_variable(shape):\n",
    "    initial = tf.constant(0.1, shape=shape)\n",
    "    return tf.Variable(initial)\n",
    "\n",
    "# 定义卷积层\n",
    "def conv2d(x, W):\n",
    "    #stride[0]表示输入channel数\n",
    "    #stride[1]表示X方向步长\n",
    "    #stride[2]表示Y方向步长\n",
    "    #stride[3]表示输出kernel数\n",
    "    #padding为'SAME'表示边界用0填充\n",
    "    return tf.nn.conv2d(x, W, strides=[1, 1, 1, 1], padding=\"SAME\")\n",
    "# 定义池化层\n",
    "def max_pool_2x2(x):\n",
    "    #ksize表示池化窗口为2x2\n",
    "    #strides表示步长为2\n",
    "    #padding='VALID'表示边界信息抛弃\n",
    "    return tf.nn.max_pool(x, ksize=[1, 2, 2, 1], strides=[1, 2, 2, 1],padding='VALID')\n",
    "\n",
    "# 输入数据占位符定义\n",
    "X_input = tf.placeholder(tf.float32, [None, 784])\n",
    "y_input = tf.placeholder(tf.float32, [None, 10])\n",
    "\n",
    "X = tf.reshape(X_input, shape=[-1, 28, 28, 1])\n",
    "\n",
    "# 卷积层1\n",
    "# 窗口大小为5x5 输入channel数为1 输出kernel数为32\n",
    "W_conv1 = weight_variable(shape=[5, 5, 1, 32])\n",
    "b_conv1 = bias_variable(shape=[32])\n",
    "h_conv1 = tf.nn.relu(conv2d(X, W_conv1) + b_conv1)\n",
    "\n",
    "# 池化层1\n",
    "# 输出为[None, 14, 14, 32]\n",
    "h_pool1 = max_pool_2x2(h_conv1)\n",
    "\n",
    "# 卷积层2\n",
    "# 窗口的大小为5x5 输入channel数为32 输出kernel数为64\n",
    "W_conv2 = weight_variable(shape=[5, 5, 32, 64])\n",
    "b_conv2 = bias_variable(shape=[64])\n",
    "h_conv2 = tf.nn.relu(conv2d(h_pool1, W_conv2) + b_conv2)\n",
    "\n",
    "# 池化层2\n",
    "# 输出为[None, 7, 7, 64]\n",
    "h_pool2 = max_pool_2x2(h_conv2)\n",
    "\n",
    "# flatten为长向量\n",
    "h_pool2_size = np.product([s.value for s in h_pool2.shape[1:]])\n",
    "h_pool2_flat = tf.reshape(h_pool2, shape=[-1, h_pool2_size])\n",
    "\n",
    "# 全连接层1\n",
    "num_hidden1 = 256\n",
    "W_fc1 = weight_variable(shape=[h_pool2_size, num_hidden1])\n",
    "b_fc1 = bias_variable(shape=[num_hidden1])\n",
    "h_fc1 = tf.nn.relu(tf.matmul(h_pool2_flat, W_fc1) + b_fc1)\n",
    "\n",
    "# dropout : 随机失活\n",
    "keep_prob = tf.placeholder(tf.float32)\n",
    "h_fc1_drop = tf.nn.dropout(h_fc1, keep_prob)\n",
    "\n",
    "# 输出层\n",
    "num_class = 10\n",
    "W_fc2 = weight_variable(shape=[num_hidden1, num_class])\n",
    "b_fc2 = bias_variable(shape=[num_class])\n",
    "y_pred = tf.nn.softmax(tf.matmul(h_fc1_drop, W_fc2) + b_fc2)\n",
    "    "
   ]
  },
  {
   "cell_type": "code",
   "execution_count": 9,
   "metadata": {},
   "outputs": [
    {
     "name": "stdout",
     "output_type": "stream",
     "text": [
      "X_input: Tensor(\"Placeholder:0\", shape=(?, 784), dtype=float32)\nX:       Tensor(\"Reshape:0\", shape=(?, 28, 28, 1), dtype=float32)\ny_input: Tensor(\"Placeholder_1:0\", shape=(?, 10), dtype=float32)\nh_conv1: Tensor(\"Relu:0\", shape=(?, 28, 28, 32), dtype=float32)\nh_pool1: Tensor(\"MaxPool:0\", shape=(?, 14, 14, 32), dtype=float32)\nh_conv2: Tensor(\"Relu_1:0\", shape=(?, 14, 14, 64), dtype=float32)\nh_pool2: Tensor(\"MaxPool_1:0\", shape=(?, 7, 7, 64), dtype=float32)\nh_pool2_flat Tensor(\"Reshape_1:0\", shape=(?, 3136), dtype=float32)\nh_fc1:   Tensor(\"Relu_2:0\", shape=(?, 256), dtype=float32)\ny_pred:  Tensor(\"Softmax:0\", shape=(?, 10), dtype=float32)\n"
     ]
    }
   ],
   "source": [
    "print('X_input:', X_input)\n",
    "print('X:      ', X)\n",
    "print('y_input:', y_input)\n",
    "print('h_conv1:', h_conv1)\n",
    "print('h_pool1:', h_pool1)\n",
    "print('h_conv2:', h_conv2)\n",
    "print('h_pool2:', h_pool2)\n",
    "print('h_pool2_flat', h_pool2_flat)\n",
    "print('h_fc1:  ', h_fc1)\n",
    "print('y_pred: ', y_pred)"
   ]
  },
  {
   "cell_type": "heading",
   "metadata": {},
   "level": 3,
   "source": []
  }
 ],
 "metadata": {
  "kernelspec": {
   "display_name": "Python 2",
   "language": "python",
   "name": "python2"
  },
  "language_info": {
   "codemirror_mode": {
    "name": "ipython",
    "version": 2
   },
   "file_extension": ".py",
   "mimetype": "text/x-python",
   "name": "python",
   "nbconvert_exporter": "python",
   "pygments_lexer": "ipython2",
   "version": "2.7.6"
  }
 },
 "nbformat": 4,
 "nbformat_minor": 0
}
