{
 "cells": [
  {
   "cell_type": "code",
   "execution_count": 4,
   "metadata": {
    "collapsed": true
   },
   "outputs": [],
   "source": [
    "import tensorflow as tf\n",
    "import numpy as np\n",
    "import warnings\n",
    "warnings.filterwarnings('ignore')"
   ]
  },
  {
   "cell_type": "heading",
   "metadata": {},
   "level": 3,
   "source": [
    "1 数据加载"
   ]
  },
  {
   "cell_type": "code",
   "execution_count": 5,
   "metadata": {},
   "outputs": [
    {
     "name": "stdout",
     "output_type": "stream",
     "text": [
      "Successfully downloaded train-images-idx3-ubyte.gz 9912422 bytes.\nExtracting data\\train-images-idx3-ubyte.gz\n"
     ]
    },
    {
     "name": "stdout",
     "output_type": "stream",
     "text": [
      "Successfully downloaded train-labels-idx1-ubyte.gz 28881 bytes.\nExtracting data\\train-labels-idx1-ubyte.gz\n"
     ]
    },
    {
     "name": "stdout",
     "output_type": "stream",
     "text": [
      "Successfully downloaded t10k-images-idx3-ubyte.gz 1648877 bytes.\nExtracting data\\t10k-images-idx3-ubyte.gz\n"
     ]
    },
    {
     "name": "stdout",
     "output_type": "stream",
     "text": [
      "Successfully downloaded t10k-labels-idx1-ubyte.gz 4542 bytes.\nExtracting data\\t10k-labels-idx1-ubyte.gz\n"
     ]
    },
    {
     "name": "stdout",
     "output_type": "stream",
     "text": [
      "train size-- (55000, 784)\ntest size-- (10000, 784)\n"
     ]
    }
   ],
   "source": [
    "from tensorflow.examples.tutorials.mnist import input_data\n",
    "mnist = input_data.read_data_sets('data', one_hot=True)\n",
    "print(\"train size--\", mnist.train.images.shape)\n",
    "print(\"test size--\", mnist.test.images.shape)"
   ]
  },
  {
   "cell_type": "heading",
   "metadata": {},
   "level": 3,
   "source": [
    "2 网络定义"
   ]
  },
  {
   "cell_type": "code",
   "execution_count": 6,
   "metadata": {},
   "outputs": [],
   "source": [
    "def weight_variable(shape):\n",
    "    initial = tf.truncated_normal(shape, stddev=0.1)\n",
    "    return tf.Variable(initial)\n",
    "\n",
    "def bias_variable(shape):\n",
    "    initial = tf.constant(0.1, shape=shape)\n",
    "    return tf.Variable(initial)\n",
    "\n",
    "# 定义卷积层\n",
    "def conv2d(x, W):\n",
    "    #stride[0]表示输入channel数\n",
    "    #stride[1]表示X方向步长\n",
    "    #stride[2]表示Y方向步长\n",
    "    #stride[3]表示输出kernel数\n",
    "    #padding为'SAME'表示边界用0填充\n",
    "    return tf.nn.conv2d(x, W, strides=[1, 1, 1, 1], padding=\"SAME\")\n",
    "# 定义池化层\n",
    "def max_pool_2x2(x):\n",
    "    #ksize表示池化窗口为2x2\n",
    "    #strides表示步长为2\n",
    "    #padding='VALID'表示边界信息抛弃\n",
    "    return tf.nn.max_pool(x, ksize=[1, 2, 2, 1], strides=[1, 2, 2, 1],padding='VALID')\n",
    "\n",
    "# 输入数据占位符定义\n",
    "X_input = tf.placeholder(tf.float32, [None, 784])\n",
    "y_input = tf.placeholder(tf.float32, [None, 10])\n",
    "\n",
    "X = tf.reshape(X_input, shape=[-1, 28, 28, 1])\n",
    "\n",
    "# 卷积层1\n",
    "# 窗口大小为5x5 输入channel数为1 输出kernel数为32\n",
    "W_conv1 = weight_variable(shape=[5, 5, 1, 32])\n",
    "b_conv1 = bias_variable(shape=[32])\n",
    "h_conv1 = tf.nn.relu(conv2d(X, W_conv1) + b_conv1)\n",
    "\n",
    "# 池化层1\n",
    "# 输出为[None, 14, 14, 32]\n",
    "h_pool1 = max_pool_2x2(h_conv1)\n",
    "\n",
    "# 卷积层2\n",
    "# 窗口的大小为5x5 输入channel数为32 输出kernel数为64\n",
    "W_conv2 = weight_variable(shape=[5, 5, 32, 64])\n",
    "b_conv2 = bias_variable(shape=[64])\n",
    "h_conv2 = tf.nn.relu(conv2d(h_pool1, W_conv2) + b_conv2)\n",
    "\n",
    "# 池化层2\n",
    "# 输出为[None, 7, 7, 64]\n",
    "h_pool2 = max_pool_2x2(h_conv2)\n",
    "\n",
    "# flatten为长向量\n",
    "h_pool2_size = np.product([s.value for s in h_pool2.shape[1:]])\n",
    "h_pool2_flat = tf.reshape(h_pool2, shape=[-1, h_pool2_size])\n",
    "\n",
    "# 全连接层1\n",
    "num_hidden1 = 256\n",
    "W_fc1 = weight_variable(shape=[h_pool2_size, num_hidden1])\n",
    "b_fc1 = bias_variable(shape=[num_hidden1])\n",
    "h_fc1 = tf.nn.relu(tf.matmul(h_pool2_flat, W_fc1) + b_fc1)\n",
    "\n",
    "# dropout : 随机失活\n",
    "keep_prob = tf.placeholder(tf.float32)\n",
    "h_fc1_drop = tf.nn.dropout(h_fc1, keep_prob)\n",
    "\n",
    "# 输出层\n",
    "num_class = 10\n",
    "W_fc2 = weight_variable(shape=[num_hidden1, num_class])\n",
    "b_fc2 = bias_variable(shape=[num_class])\n",
    "y_pred = tf.nn.softmax(tf.matmul(h_fc1_drop, W_fc2) + b_fc2)\n",
    "    "
   ]
  },
  {
   "cell_type": "code",
   "execution_count": 9,
   "metadata": {},
   "outputs": [
    {
     "name": "stdout",
     "output_type": "stream",
     "text": [
      "X_input: Tensor(\"Placeholder:0\", shape=(?, 784), dtype=float32)\nX:       Tensor(\"Reshape:0\", shape=(?, 28, 28, 1), dtype=float32)\ny_input: Tensor(\"Placeholder_1:0\", shape=(?, 10), dtype=float32)\nh_conv1: Tensor(\"Relu:0\", shape=(?, 28, 28, 32), dtype=float32)\nh_pool1: Tensor(\"MaxPool:0\", shape=(?, 14, 14, 32), dtype=float32)\nh_conv2: Tensor(\"Relu_1:0\", shape=(?, 14, 14, 64), dtype=float32)\nh_pool2: Tensor(\"MaxPool_1:0\", shape=(?, 7, 7, 64), dtype=float32)\nh_pool2_flat Tensor(\"Reshape_1:0\", shape=(?, 3136), dtype=float32)\nh_fc1:   Tensor(\"Relu_2:0\", shape=(?, 256), dtype=float32)\ny_pred:  Tensor(\"Softmax:0\", shape=(?, 10), dtype=float32)\n"
     ]
    }
   ],
   "source": [
    "print('X_input:', X_input)\n",
    "print('X:      ', X)\n",
    "print('y_input:', y_input)\n",
    "print('h_conv1:', h_conv1)\n",
    "print('h_pool1:', h_pool1)\n",
    "print('h_conv2:', h_conv2)\n",
    "print('h_pool2:', h_pool2)\n",
    "print('h_pool2_flat', h_pool2_flat)\n",
    "print('h_fc1:  ', h_fc1)\n",
    "print('y_pred: ', y_pred)"
   ]
  },
  {
   "cell_type": "heading",
   "metadata": {},
   "level": 3,
   "source": [
    "3 训练"
   ]
  },
  {
   "cell_type": "code",
   "execution_count": 12,
   "metadata": {},
   "outputs": [
    {
     "name": "stdout",
     "output_type": "stream",
     "text": [
      "step 500, train cost=1.540709, acc=0.910000; test cost=1.492143, acc=0.969700; pass 91.07567167282104s\n"
     ]
    },
    {
     "name": "stdout",
     "output_type": "stream",
     "text": [
      "step 1000, train cost=1.472989, acc=0.990000; test cost=1.481247, acc=0.980200; pass 92.13183975219727s\n"
     ]
    },
    {
     "name": "stdout",
     "output_type": "stream",
     "text": [
      "step 1500, train cost=1.480251, acc=0.980000; test cost=1.477072, acc=0.984700; pass 94.35580515861511s\n"
     ]
    },
    {
     "name": "stdout",
     "output_type": "stream",
     "text": [
      "step 2000, train cost=1.473054, acc=0.990000; test cost=1.473323, acc=0.988300; pass 94.90343236923218s\n"
     ]
    },
    {
     "name": "stdout",
     "output_type": "stream",
     "text": [
      "step 2500, train cost=1.481797, acc=0.980000; test cost=1.474639, acc=0.986900; pass 98.47560596466064s\n"
     ]
    },
    {
     "name": "stdout",
     "output_type": "stream",
     "text": [
      "step 3000, train cost=1.476191, acc=0.990000; test cost=1.473383, acc=0.988400; pass 93.58132243156433s\n"
     ]
    },
    {
     "name": "stdout",
     "output_type": "stream",
     "text": [
      "step 3500, train cost=1.481532, acc=0.980000; test cost=1.471886, acc=0.989400; pass 94.18695878982544s\n"
     ]
    },
    {
     "name": "stdout",
     "output_type": "stream",
     "text": [
      "step 4000, train cost=1.477253, acc=0.990000; test cost=1.471061, acc=0.990200; pass 92.93787670135498s\n"
     ]
    },
    {
     "name": "stdout",
     "output_type": "stream",
     "text": [
      "step 4500, train cost=1.463590, acc=1.000000; test cost=1.471498, acc=0.989900; pass 95.8116979598999s\n"
     ]
    },
    {
     "name": "stdout",
     "output_type": "stream",
     "text": [
      "step 5000, train cost=1.470901, acc=0.990000; test cost=1.470242, acc=0.990900; pass 95.31354570388794s\n"
     ]
    }
   ],
   "source": [
    "sess = tf.Session()\n",
    "cross_entropy = tf.reduce_mean(tf.nn.softmax_cross_entropy_with_logits(logits=y_pred + 1e-50, labels=y_input))\n",
    "# cross_entropy = -tf.reduce_sum(y_input * tf.log(y_pred))\n",
    "train_step = tf.train.AdamOptimizer(1e-3).minimize(cross_entropy)\n",
    "\n",
    "# 3.预测准确结果统计\n",
    "correct_prediction = tf.equal(tf.argmax(y_pred, 1), tf.argmax(y_input, 1))  \n",
    "accuracy = tf.reduce_mean(tf.cast(correct_prediction, tf.float32))\n",
    "\n",
    "# 定义了变量必须要初始化，或者下面形式\n",
    "sess.run(tf.global_variables_initializer())\n",
    "\n",
    "import time\n",
    "\n",
    "\n",
    "time0 = time.time()\n",
    "# 训练\n",
    "train_accs =np.zeros(10)\n",
    "test_accs = np.zeros(10)\n",
    "for i in range(5000):\n",
    "    X_batch, y_batch = mnist.train.next_batch(batch_size=100)\n",
    "    cost, acc,  _ = sess.run([cross_entropy, accuracy, train_step], feed_dict={X_input: X_batch, y_input: y_batch, keep_prob: 0.5})\n",
    "    if (i+1) % 500 == 0:\n",
    "        train_accs[i//500] = acc\n",
    "        # 分 100 个batch 迭代\n",
    "        test_acc = 0.0\n",
    "        test_cost = 0.0\n",
    "        N = 100\n",
    "        for j in range(N):\n",
    "            X_batch, y_batch = mnist.test.next_batch(batch_size=100)\n",
    "            _cost, _acc = sess.run([cross_entropy, accuracy], feed_dict={X_input: X_batch, y_input: y_batch, keep_prob: 1.0})\n",
    "            test_acc += _acc\n",
    "            test_cost += _cost\n",
    "        test_accs[i//500] = test_acc/N\n",
    "        print(\"step {}, train cost={:.6f}, acc={:.6f}; test cost={:.6f}, acc={:.6f}; pass {}s\".format(i+1, cost, acc, test_cost/N, test_acc/N, time.time() - time0))\n",
    "        time0 = time.time()"
   ]
  },
  {
   "cell_type": "heading",
   "metadata": {},
   "level": 3,
   "source": [
    "准确率可视化"
   ]
  },
  {
   "cell_type": "code",
   "execution_count": 27,
   "metadata": {
    "collapsed": false
   },
   "outputs": [
    {
     "data": {
      "image/png": "[encoded data removed]",
      "text/plain": [
       "<matplotlib.figure.Figure at 0x1f33e603e48>"
      ]
     },
     "metadata": {},
     "output_type": "display_data"
    }
   ],
   "source": [
    "import pandas as pd\n",
    "import matplotlib.pyplot as plt\n",
    "%matplotlib inline\n",
    "train_line = pd.Series(train_accs)\n",
    "test_line = pd.Series(test_accs)\n",
    "fig = plt.figure()\n",
    "ax = fig.add_subplot(111)\n",
    "ax.set_xlabel('Rounds')\n",
    "ax.set_ylabel('Accuracy')\n",
    "ax.set_title('Accuracy v.s. Rounds')\n",
    "ax.set_xlim(-0.5, 9.5)\n",
    "train_line.plot(kind='line')\n",
    "test_line.plot(kind='line')\n",
    "plt.legend(labels=['train', 'test'])\n",
    "plt.show()\n"
   ]
  },
  {
   "cell_type": "heading",
   "metadata": {},
   "level": 3,
   "source": [
    "网络结果可视化"
   ]
  },
  {
   "cell_type": "code",
   "execution_count": 31,
   "metadata": {},
   "outputs": [
    {
     "name": "stdout",
     "output_type": "stream",
     "text": [
      "5\n"
     ]
    },
    {
     "data": {
      "text/plain": [
       "(-0.5, 27.5, 27.5, -0.5)"
      ]
     },
     "execution_count": 31,
     "metadata": {},
     "output_type": "execute_result"
    },
    {
     "data": {
      "image/png": "[encoded data removed]",
      "text/plain": [
       "<matplotlib.figure.Figure at 0x1f343530278>"
      ]
     },
     "metadata": {},
     "output_type": "display_data"
    }
   ],
   "source": [
    "# 先随便找张图片看一下\n",
    "img5 = mnist.train.images[5]\n",
    "label5 = mnist.train.labels[5]\n",
    "print(np.argmax(label5))\n",
    "img5 = img5.reshape([28, 28])\n",
    "plt.imshow(img5, cmap='gray')\n",
    "plt.axis(\"off\")"
   ]
  },
  {
   "cell_type": "code",
   "execution_count": 37,
   "metadata": {
    "collapsed": false
   },
   "outputs": [
    {
     "name": "stdout",
     "output_type": "stream",
     "text": [
      "(1, 28, 28, 32)\n"
     ]
    },
    {
     "data": {
      "image/png": "[encoded data removed]",
      "text/plain": [
       "<matplotlib.figure.Figure at 0x1f3435924e0>"
      ]
     },
     "metadata": {},
     "output_type": "display_data"
    }
   ],
   "source": [
    "X_img = img5.reshape([-1, 784])\n",
    "result = sess.run([h_conv1], feed_dict={X_input: X_img, keep_prob: 1.0})[0]\n",
    "type(result)\n",
    "print(result.shape)\n",
    "\n",
    "for i in range(result.shape[-1]):\n",
    "    show_img = result[:,:,:,i]\n",
    "    show_img = show_img.reshape([28, 28])\n",
    "    plt.subplot(4, 8, i+1)\n",
    "    plt.imshow(show_img, cmap='gray')\n",
    "    plt.axis('off')\n",
    "    "
   ]
  },
  {
   "cell_type": "markdown",
   "metadata": {},
   "source": [
    "可以看出不同的卷积核学习到了不同的轮廓特征"
   ]
  },
  {
   "cell_type": "code",
   "execution_count": null,
   "metadata": {},
   "outputs": [],
   "source": []
  }
 ],
 "metadata": {
  "kernelspec": {
   "display_name": "Python 2",
   "language": "python",
   "name": "python2"
  },
  "language_info": {
   "codemirror_mode": {
    "name": "ipython",
    "version": 2
   },
   "file_extension": ".py",
   "mimetype": "text/x-python",
   "name": "python",
   "nbconvert_exporter": "python",
   "pygments_lexer": "ipython2",
   "version": "2.7.6"
  }
 },
 "nbformat": 4,
 "nbformat_minor": 0
}
